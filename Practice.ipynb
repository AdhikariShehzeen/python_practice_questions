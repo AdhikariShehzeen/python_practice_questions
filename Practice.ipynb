{
  "nbformat": 4,
  "nbformat_minor": 0,
  "metadata": {
    "colab": {
      "provenance": [],
      "authorship_tag": "ABX9TyPL/wa4ckF2qWOMHEIaZIGk",
      "include_colab_link": true
    },
    "kernelspec": {
      "name": "python3",
      "display_name": "Python 3"
    },
    "language_info": {
      "name": "python"
    }
  },
  "cells": [
    {
      "cell_type": "markdown",
      "metadata": {
        "id": "view-in-github",
        "colab_type": "text"
      },
      "source": [
        "<a href=\"https://colab.research.google.com/github/AdhikariShehzeen/python_practice_questions/blob/main/Practice.ipynb\" target=\"_parent\"><img src=\"https://colab.research.google.com/assets/colab-badge.svg\" alt=\"Open In Colab\"/></a>"
      ]
    },
    {
      "cell_type": "markdown",
      "source": [
        "# A.P\n",
        "Given first term (a), common difference (d) and a integer n of the Arithmetic Progression series, the task is to print the series.\n",
        "Examples :\n",
        "\n",
        "\n",
        "Input : a = 5, d = 2, n = 10\n",
        "Output : 5 7 9 11 13 15 17 19 21 23\n",
        "\n",
        "We no the Arithmetic Progression series is like = 2, 5, 8, 11, 14 …. …\n",
        "In dis series 2 is the starting term of the series .\n",
        "Common difference = 5 – 2 = 3 (Difference common in teh series).\n",
        "so we can write the series as :\n",
        "t1 = a1\n",
        "t2 = a1 + (2-1) * d\n",
        "t3 = a1 + (3-1) * d\n",
        ".\n",
        ".\n",
        ".\n",
        "tn = a1 + (n-1) * d\n",
        "\n",
        "---\n",
        "\n"
      ],
      "metadata": {
        "id": "THZ2MYFV75PZ"
      }
    },
    {
      "cell_type": "code",
      "source": [
        "# reverse the list\n",
        "\n",
        "def reverse(l):\n",
        "  start = 0\n",
        "  end = len(l)-1\n",
        "  while (start <= end):\n",
        "    l[start], l[end] = l[end], l[start]\n",
        "    start += 1\n",
        "    end -= 1\n",
        "  return l\n",
        "\n",
        "\n",
        "l = [3,11,5,9,4]\n",
        "l = reverse(l)\n",
        "print(l)"
      ],
      "metadata": {
        "colab": {
          "base_uri": "https://localhost:8080/"
        },
        "id": "OW4ejvmG66fj",
        "outputId": "f0febeac-69fe-439c-939c-a4c9efde2d01"
      },
      "execution_count": null,
      "outputs": [
        {
          "output_type": "stream",
          "name": "stdout",
          "text": [
            "[4, 9, 5, 11, 3]\n"
          ]
        }
      ]
    },
    {
      "cell_type": "code",
      "source": [
        "def check_armstrong(n):\n",
        "    \"\"\"Function to check whether a number is an armstrong number or not\n",
        "    Print true if yes else false \"\"\"\n",
        "    ans = 0\n",
        "    while(n != 0):\n",
        "        digit  = n%10\n",
        "        ans = ans + (digit**3)\n",
        "        print(ans)\n",
        "        n = n//10\n",
        "        print('n==',n)\n",
        "\n",
        "    print(ans)\n",
        "\n",
        "    if ans == n:\n",
        "        print('true')\n",
        "    else:\n",
        "        print('false')\n",
        "\n",
        "\n",
        "    \"\"\"Dont change anything below. If changed click on reset.\"\"\"\n",
        "\n",
        "\n",
        "check_armstrong(370)\n",
        "\n",
        "\n"
      ],
      "metadata": {
        "colab": {
          "base_uri": "https://localhost:8080/"
        },
        "id": "RFl1Zav8nhPG",
        "outputId": "426b1ce2-23a9-450f-bdc2-5d09f8485b7e"
      },
      "execution_count": null,
      "outputs": [
        {
          "output_type": "stream",
          "name": "stdout",
          "text": [
            "0\n",
            "n== 37\n",
            "343\n",
            "n== 3\n",
            "370\n",
            "n== 0\n",
            "370\n",
            "false\n"
          ]
        }
      ]
    },
    {
      "cell_type": "code",
      "source": [
        "# swaping alternate elements\n",
        "l = [2,3,6,7,1,9]\n",
        "l ="
      ],
      "metadata": {
        "id": "ktrsI09HAFVN",
        "outputId": "d71b0e6e-cf2e-4d45-dc44-626a729eb15a",
        "colab": {
          "base_uri": "https://localhost:8080/",
          "height": 130
        }
      },
      "execution_count": null,
      "outputs": [
        {
          "output_type": "error",
          "ename": "SyntaxError",
          "evalue": "ignored",
          "traceback": [
            "\u001b[0;36m  File \u001b[0;32m\"<ipython-input-2-8c17b2d7fa17>\"\u001b[0;36m, line \u001b[0;32m3\u001b[0m\n\u001b[0;31m    l =\u001b[0m\n\u001b[0m       ^\u001b[0m\n\u001b[0;31mSyntaxError\u001b[0m\u001b[0;31m:\u001b[0m invalid syntax\n"
          ]
        }
      ]
    },
    {
      "cell_type": "code",
      "source": [
        "def ap(a,n,d):\n",
        "  curr_term = a\n",
        "  # print(n)\n",
        "  for i in range(1,n+1):\n",
        "    print(curr_term)\n",
        "    curr_term += d\n",
        "\n",
        "\n",
        "# Driver code\n",
        "a = 2\n",
        "d = 3\n",
        "n = 5\n",
        "\n",
        "ap(a, n, d)\n"
      ],
      "metadata": {
        "id": "Fef02mxI27_9"
      },
      "execution_count": null,
      "outputs": []
    },
    {
      "cell_type": "code",
      "source": [
        "# Reverse the alternate\n",
        "# input = [1,3,5,7,9]\n",
        "# output = [3,1,7,5,9]\n",
        "\n",
        "def swapAlternate(l1):\n",
        "  for i in range(0,len(l1),2):\n",
        "  # print(i)\n",
        "    if i+1 < len(l1):\n",
        "      l1[i],l1[i+1] = l1[i+1],l1[i]\n",
        "  return l\n",
        "\n",
        "\n",
        "l = [1,3,5,7,9]\n",
        "l = swapAlternate(l)\n",
        "print(l)"
      ],
      "metadata": {
        "id": "YECzyYtH468J"
      },
      "execution_count": null,
      "outputs": []
    },
    {
      "cell_type": "markdown",
      "source": [
        "Teh Fibonacci numbers are teh numbers in teh following integer sequence.\n",
        "0, 1, 1, 2, 3, 5, 8, 13, 21, 34, 55, 89, 144, ……..\n",
        "\n",
        "In mathematical terms, teh sequence Fn of Fibonacci numbers is defined by teh recurrence relation\n",
        "\n",
        "Fn = Fn-1 + Fn-2"
      ],
      "metadata": {
        "id": "LmApiOy6AiXA"
      }
    },
    {
      "cell_type": "code",
      "source": [
        "n = 10\n",
        "first = 0\n",
        "second = 1\n",
        "sum = 0\n",
        "for i in range(n):\n",
        "  print(sum, end = \" \")\n",
        "  first = second\n",
        "  second = sum\n",
        "  sum = first + second"
      ],
      "metadata": {
        "colab": {
          "base_uri": "https://localhost:8080/"
        },
        "id": "Us6S8L5gBIun",
        "outputId": "354aedf9-27a5-4e01-84f5-6839a532ed07"
      },
      "execution_count": null,
      "outputs": [
        {
          "output_type": "stream",
          "name": "stdout",
          "text": [
            "0 1 1 2 3 5 8 13 21 34 "
          ]
        }
      ]
    },
    {
      "cell_type": "code",
      "source": [
        "#  find unique element\n",
        "def findUnique(arr) :\n",
        "    #Your code goes here\n",
        "    ans = 0\n",
        "    for num in arr:\n",
        "      ans = ans^num\n",
        "      print(ans)\n",
        "    return ans\n",
        "\n",
        "arr = [2,3,4,3,2]\n",
        "ans = findUnique(arr)\n",
        "print(ans)\n",
        "\n"
      ],
      "metadata": {
        "colab": {
          "base_uri": "https://localhost:8080/"
        },
        "id": "2aS_R9Iz_KhZ",
        "outputId": "39a4b965-0d31-4b59-be90-773a18d79940"
      },
      "execution_count": null,
      "outputs": [
        {
          "output_type": "stream",
          "name": "stdout",
          "text": [
            "2\n",
            "1\n",
            "5\n",
            "6\n",
            "4\n",
            "4\n"
          ]
        }
      ]
    },
    {
      "cell_type": "code",
      "source": [
        "arr = [8, 1, 4, 2, 6, 5, 5, 7, 3 ]\n",
        "\n",
        "ans = 0\n",
        "\n",
        "for i in range(len(arr)):\n",
        "  # print(arr[i])\n",
        "  ans ^= arr[i]\n",
        "\n",
        "#   # print(ans)\n",
        "for i in range(0,len(arr)-1):\n",
        "  # print(arr[i])\n",
        "  ans ^= arr[i]\n",
        "print(ans)"
      ],
      "metadata": {
        "id": "wHONbgdXBNx3",
        "colab": {
          "base_uri": "https://localhost:8080/"
        },
        "outputId": "6555f56c-ff4f-4c3d-99dd-ce93ecf4ed69"
      },
      "execution_count": null,
      "outputs": [
        {
          "output_type": "stream",
          "name": "stdout",
          "text": [
            "3\n"
          ]
        }
      ]
    },
    {
      "cell_type": "code",
      "source": [
        "l1 = [1, 2, 3, 4, 3]\n",
        "\n",
        "result = 0\n",
        "\n",
        "# XOR all elements from length of l1 to len(l1)-1\n",
        "for i in range(len(l1), len(l1)-1,):\n",
        "    result ^= l1[i]\n",
        "\n",
        "print(result)\n"
      ],
      "metadata": {
        "colab": {
          "base_uri": "https://localhost:8080/"
        },
        "id": "P0ga0mrIAPXH",
        "outputId": "9a73f14e-4347-450e-b632-3326bd7a3592"
      },
      "execution_count": null,
      "outputs": [
        {
          "output_type": "stream",
          "name": "stdout",
          "text": [
            "0\n"
          ]
        }
      ]
    },
    {
      "cell_type": "code",
      "source": [
        "def find_duplicates(arr):\n",
        "    seen = set()\n",
        "    duplicates = []\n",
        "\n",
        "    for num in arr:\n",
        "        if num in seen:\n",
        "            duplicates.append(num)\n",
        "        else:\n",
        "            seen.add(num)\n",
        "\n",
        "    return duplicates\n",
        "\n",
        "arr = [[8, 1, 4, 2, 6, 5, 5, 7, 3]]\n",
        "duplicate_elements = find_duplicates(arr)\n",
        "print(duplicate_elements)\n"
      ],
      "metadata": {
        "colab": {
          "base_uri": "https://localhost:8080/",
          "height": 349
        },
        "id": "qbQ0bn9zBdFv",
        "outputId": "6a5323f4-a955-4236-95b4-fd5e791655f6"
      },
      "execution_count": null,
      "outputs": [
        {
          "output_type": "error",
          "ename": "TypeError",
          "evalue": "ignored",
          "traceback": [
            "\u001b[0;31m---------------------------------------------------------------------------\u001b[0m",
            "\u001b[0;31mTypeError\u001b[0m                                 Traceback (most recent call last)",
            "\u001b[0;32m<ipython-input-6-1dfe9582150e>\u001b[0m in \u001b[0;36m<cell line: 14>\u001b[0;34m()\u001b[0m\n\u001b[1;32m     12\u001b[0m \u001b[0;34m\u001b[0m\u001b[0m\n\u001b[1;32m     13\u001b[0m \u001b[0marr\u001b[0m \u001b[0;34m=\u001b[0m \u001b[0;34m[\u001b[0m\u001b[0;34m[\u001b[0m\u001b[0;36m8\u001b[0m\u001b[0;34m,\u001b[0m \u001b[0;36m1\u001b[0m\u001b[0;34m,\u001b[0m \u001b[0;36m4\u001b[0m\u001b[0;34m,\u001b[0m \u001b[0;36m2\u001b[0m\u001b[0;34m,\u001b[0m \u001b[0;36m6\u001b[0m\u001b[0;34m,\u001b[0m \u001b[0;36m5\u001b[0m\u001b[0;34m,\u001b[0m \u001b[0;36m5\u001b[0m\u001b[0;34m,\u001b[0m \u001b[0;36m7\u001b[0m\u001b[0;34m,\u001b[0m \u001b[0;36m3\u001b[0m\u001b[0;34m]\u001b[0m\u001b[0;34m]\u001b[0m\u001b[0;34m\u001b[0m\u001b[0;34m\u001b[0m\u001b[0m\n\u001b[0;32m---> 14\u001b[0;31m \u001b[0mduplicate_elements\u001b[0m \u001b[0;34m=\u001b[0m \u001b[0mfind_duplicates\u001b[0m\u001b[0;34m(\u001b[0m\u001b[0marr\u001b[0m\u001b[0;34m)\u001b[0m\u001b[0;34m\u001b[0m\u001b[0;34m\u001b[0m\u001b[0m\n\u001b[0m\u001b[1;32m     15\u001b[0m \u001b[0mprint\u001b[0m\u001b[0;34m(\u001b[0m\u001b[0mduplicate_elements\u001b[0m\u001b[0;34m)\u001b[0m\u001b[0;34m\u001b[0m\u001b[0;34m\u001b[0m\u001b[0m\n",
            "\u001b[0;32m<ipython-input-6-1dfe9582150e>\u001b[0m in \u001b[0;36mfind_duplicates\u001b[0;34m(arr)\u001b[0m\n\u001b[1;32m      4\u001b[0m \u001b[0;34m\u001b[0m\u001b[0m\n\u001b[1;32m      5\u001b[0m     \u001b[0;32mfor\u001b[0m \u001b[0mnum\u001b[0m \u001b[0;32min\u001b[0m \u001b[0marr\u001b[0m\u001b[0;34m:\u001b[0m\u001b[0;34m\u001b[0m\u001b[0;34m\u001b[0m\u001b[0m\n\u001b[0;32m----> 6\u001b[0;31m         \u001b[0;32mif\u001b[0m \u001b[0mnum\u001b[0m \u001b[0;32min\u001b[0m \u001b[0mseen\u001b[0m\u001b[0;34m:\u001b[0m\u001b[0;34m\u001b[0m\u001b[0;34m\u001b[0m\u001b[0m\n\u001b[0m\u001b[1;32m      7\u001b[0m             \u001b[0mduplicates\u001b[0m\u001b[0;34m.\u001b[0m\u001b[0mappend\u001b[0m\u001b[0;34m(\u001b[0m\u001b[0mnum\u001b[0m\u001b[0;34m)\u001b[0m\u001b[0;34m\u001b[0m\u001b[0;34m\u001b[0m\u001b[0m\n\u001b[1;32m      8\u001b[0m         \u001b[0;32melse\u001b[0m\u001b[0;34m:\u001b[0m\u001b[0;34m\u001b[0m\u001b[0;34m\u001b[0m\u001b[0m\n",
            "\u001b[0;31mTypeError\u001b[0m: unhashable type: 'list'"
          ]
        }
      ]
    },
    {
      "cell_type": "code",
      "source": [
        "import collections\n",
        "nums = [8, 1, 4, 2, 6, 5, 5, 7, 3,3]\n",
        "[key for key,value in collections.Counter(nums).items() if value == 2]"
      ],
      "metadata": {
        "id": "P04v3bQOD5id",
        "colab": {
          "base_uri": "https://localhost:8080/"
        },
        "outputId": "6623af9f-319f-4764-8d13-e8e1f1d4a357"
      },
      "execution_count": null,
      "outputs": [
        {
          "output_type": "execute_result",
          "data": {
            "text/plain": [
              "[5, 3]"
            ]
          },
          "metadata": {},
          "execution_count": 36
        }
      ]
    },
    {
      "cell_type": "code",
      "source": [
        "nums = [8, 1, 4, 2, 6, 5, 5, 7, 3,3]\n",
        "dups = []\n",
        "i = 0\n",
        "while(i<len(nums)):\n",
        "  if nums[i] in nums[i+1:]:\n",
        "    dups.append(nums[i])\n",
        "  i +=1\n"
      ],
      "metadata": {
        "id": "LiQ8OhJYjg-V"
      },
      "execution_count": null,
      "outputs": []
    },
    {
      "cell_type": "code",
      "source": [
        "nums = [8, 1, 4, 2, 6, 5, 5, 7, 3,3]\n",
        "nums.append([1,2])"
      ],
      "metadata": {
        "id": "R2HEJrJZZHsC"
      },
      "execution_count": null,
      "outputs": []
    },
    {
      "cell_type": "code",
      "source": [
        "arr = [1, 2, 3, 1, 2, 3]\n",
        "k = 6\n",
        "n = 6\n",
        "sorted(arr)\n",
        "ans = []\n",
        "for i in range(n):\n",
        "    target = k-arr[i]\n",
        "    front = i+1\n",
        "    back = n-1\n",
        "    while(front < back):\n",
        "        if arr[front] + arr[back] < target:\n",
        "            front += 1\n",
        "        elif arr[front] + arr[back] > target:\n",
        "            back -= 1\n",
        "        else:\n",
        "            x = arr[front]\n",
        "            y = arr[back]\n",
        "            ans.append(arr[i])\n",
        "            ans.append(arr[front])\n",
        "            ans.append(arr[back])\n",
        "\n",
        "            while(front < back and arr[front] == x):\n",
        "                front += 1\n",
        "            while(front < back and arr[back] == y):\n",
        "                back -= 1\n",
        "\n",
        "    while(i+1 < n and arr[i] == arr[i+1]):\n",
        "        i += 1"
      ],
      "metadata": {
        "id": "V5HvLlHn8r9_"
      },
      "execution_count": null,
      "outputs": []
    },
    {
      "cell_type": "code",
      "source": [
        "set(ans)"
      ],
      "metadata": {
        "id": "AcN_BRxvA7Gv"
      },
      "execution_count": null,
      "outputs": []
    },
    {
      "cell_type": "code",
      "source": [
        "arr = [0,1,1,0,1,2,1,2,0,0,0]\n",
        "low = 0\n",
        "mid = 0\n",
        "high = len(arr)-1\n",
        "\n",
        "while(mid<=high):\n",
        "  if arr[mid] == 0:\n",
        "    arr[low],arr[mid] = arr[mid], arr[low]\n",
        "    low += 1\n",
        "    mid += 1\n",
        "  elif arr[mid]==1:\n",
        "    mid += 1\n",
        "  else:\n",
        "    arr[mid], arr[high] = arr[high], arr[mid]\n",
        "    high -= 1\n"
      ],
      "metadata": {
        "id": "eOdAg3GN37Rv"
      },
      "execution_count": null,
      "outputs": []
    },
    {
      "cell_type": "code",
      "source": [
        "arr"
      ],
      "metadata": {
        "id": "ZINWiewUALq7"
      },
      "execution_count": null,
      "outputs": []
    },
    {
      "cell_type": "code",
      "source": [
        "# First and last occurance\n",
        "\n",
        "from os import *\n",
        "from sys import *\n",
        "from collections import *\n",
        "from math import *\n",
        "arr = [1,2,3,3,3,3,3,5]\n",
        "n = len(arr)\n",
        "k = 3\n",
        "\n",
        "def firstPosition(arr, n, k):\n",
        "    s = 0\n",
        "    e = n-1\n",
        "    mid = (s+e)//2\n",
        "    pos = 0\n",
        "    while(s<e):\n",
        "        if arr[mid] == k:\n",
        "            pos = mid\n",
        "            e = mid-1\n",
        "        elif arr[mid] < k:\n",
        "            s = mid+1\n",
        "\n",
        "        elif arr[mid] > k:\n",
        "            e = mid-1\n",
        "\n",
        "        mid = (s+e)//2\n",
        "    return pos\n",
        "\n",
        "def lastPosition(arr, n, k):\n",
        "    s = 0\n",
        "    e = n-1\n",
        "    mid = (s+e)//2\n",
        "    pos = 0\n",
        "    while(s<e):\n",
        "        if arr[mid] == k:\n",
        "            pos = mid\n",
        "            s = mid+1\n",
        "        elif arr[mid] < k:\n",
        "            s = mid+1\n",
        "\n",
        "        elif arr[mid] > k:\n",
        "            s = mid-1\n",
        "\n",
        "        mid = (s+e)//2\n",
        "    return pos\n",
        "\n",
        "\n",
        "def firstAndLastPosition(arr, n, k):\n",
        "\n",
        "    firstpos = firstPosition(arr, n, k)\n",
        "    lastpos = lastPosition(arr, n, k)\n",
        "\n",
        "    # positions = [firstpos, lastpos]\n",
        "\n",
        "    # Write your code here\n",
        "\n",
        "\n",
        "    return firstpos, lastpos"
      ],
      "metadata": {
        "id": "PeUQX5gCwkDf"
      },
      "execution_count": null,
      "outputs": []
    },
    {
      "cell_type": "code",
      "source": [
        "# 852. Peak Index in a Mountain Array\n",
        "\n",
        "# first Approach\n",
        "arr = [0,2,1,0]\n",
        "pos = arr.index(max(arr))\n",
        "\n",
        "# second Approach\n",
        "def peakIndex(arr):\n",
        "  s = 0\n",
        "  e = len(arr)\n",
        "  mid = s+e//2\n",
        "  while(s<e):\n",
        "    if arr[mid] < arr[mid+1]:\n",
        "      s = mid+1\n",
        "    else:\n",
        "      e = mid\n",
        "    mid = s+e//2\n",
        "  return s\n",
        "\n",
        "\n",
        "\n",
        "print(pos)\n",
        "print('second Approch', peakIndex(arr))"
      ],
      "metadata": {
        "colab": {
          "base_uri": "https://localhost:8080/"
        },
        "id": "C8GyLAYR4hT8",
        "outputId": "e8655fc3-8cf9-4b66-d5af-043e37208ce8"
      },
      "execution_count": null,
      "outputs": [
        {
          "output_type": "stream",
          "name": "stdout",
          "text": [
            "1\n",
            "second Approch 1\n"
          ]
        }
      ]
    },
    {
      "cell_type": "code",
      "source": [
        "# Selection Sort\n",
        "arr = [64,25,12,22,11]\n",
        "n = len(arr)\n",
        "for i in range(n):\n",
        "  minIndex = i\n",
        "  for j in range(i+1,n):\n",
        "      if arr[j] < arr[minIndex]:\n",
        "          minIndex = j\n",
        "\n",
        "  arr[minIndex], arr[i] = arr[i], arr[minIndex]\n",
        "print(arr[minIndex])"
      ],
      "metadata": {
        "colab": {
          "base_uri": "https://localhost:8080/"
        },
        "id": "GIYFTmVgwwwu",
        "outputId": "f72c218f-30a8-437f-9530-8d7f51eedd9e"
      },
      "execution_count": null,
      "outputs": [
        {
          "output_type": "stream",
          "name": "stdout",
          "text": [
            "64\n"
          ]
        }
      ]
    },
    {
      "cell_type": "code",
      "source": [
        "# Bubble Sort\n",
        "arr = [10,1,7,6,14,9]\n",
        "n = len(arr)\n",
        "for i in range(1,n):\n",
        "  for j in range(0,n-i):\n",
        "    if arr[j] > arr[j+1] :\n",
        "      arr[j], arr[j+1] = arr[j+1], arr[j]\n",
        "\n",
        "print(arr)"
      ],
      "metadata": {
        "id": "DG-jLhmwx8t7",
        "colab": {
          "base_uri": "https://localhost:8080/"
        },
        "outputId": "add16761-1842-455a-a6e7-cf9b8354ea9f"
      },
      "execution_count": null,
      "outputs": [
        {
          "output_type": "stream",
          "name": "stdout",
          "text": [
            "[1, 6, 7, 9, 10, 14]\n"
          ]
        }
      ]
    },
    {
      "cell_type": "code",
      "source": [
        "#insertion sort\n",
        "arr = [10,1,7,4,8,2,11]\n",
        "n = 7\n",
        "for i in range(1,n):\n",
        "  temp = arr[i]\n",
        "  j = i-1\n",
        "  while(j>=0):\n",
        "    if arr[j] > temp :\n",
        "      #shift\n",
        "      arr[j+1] = arr[j]\n",
        "      j -= 1\n",
        "    else:\n",
        "      break\n",
        "  print(j)\n",
        "  arr[j+1] = temp\n",
        "\n",
        "print(arr)"
      ],
      "metadata": {
        "colab": {
          "base_uri": "https://localhost:8080/"
        },
        "id": "cwqUaTVcyApQ",
        "outputId": "26857fd0-b1da-4e2b-b1f7-b1d103c8a3de"
      },
      "execution_count": null,
      "outputs": [
        {
          "output_type": "stream",
          "name": "stdout",
          "text": [
            "-1\n",
            "0\n",
            "0\n",
            "2\n",
            "0\n",
            "5\n",
            "[1, 2, 4, 7, 8, 10, 11]\n"
          ]
        }
      ]
    },
    {
      "cell_type": "code",
      "source": [
        "#reverse an array after mth position\n",
        "arr = [1,2,3,4,5,6]\n",
        "m = 3\n",
        "s = m+1\n",
        "e = len(arr)-1\n",
        "while(s<=e):\n",
        "    arr[s],arr[e] = arr[e], arr[s]\n",
        "    s += 1\n",
        "    e -= 1\n",
        "print(arr)"
      ],
      "metadata": {
        "colab": {
          "base_uri": "https://localhost:8080/"
        },
        "id": "ow9ory1KiG5v",
        "outputId": "c2aa69c4-6c8f-46be-b592-08b5faa8bbe9"
      },
      "execution_count": null,
      "outputs": [
        {
          "output_type": "stream",
          "name": "stdout",
          "text": [
            "[1, 2, 3, 4, 6, 5]\n"
          ]
        }
      ]
    },
    {
      "cell_type": "code",
      "source": [
        "# 88. Merge Sorted Array\n",
        "nums1 = [1,2,3,0,0,0]\n",
        "m = 3\n",
        "nums2 = [2,5,6]\n",
        "n = 3\n",
        "i = 0\n",
        "j = 0\n",
        "k = 0\n",
        "\n",
        "while(i<m and j<n):\n",
        "  # print(i)\n",
        "  # print(j)\n",
        "  if nums1[i] < nums2[j]:\n",
        "    print('in i::::', nums1[i])\n",
        "\n",
        "    nums1[k] = nums1[i]\n",
        "    i += 1\n",
        "    k += 1\n",
        "\n",
        "  else:\n",
        "    print('in J::::',nums2[j])\n",
        "    nums1[k] = nums2[j]\n",
        "    j += 1\n",
        "    k += 1\n",
        "print(nums1)\n",
        "#copy remaining elements from ethir nums1 or nums2\n",
        "while(i<m):\n",
        "\n",
        "  nums1[k] = nums1[i]\n",
        "  i += 1\n",
        "  k += 1\n",
        "\n",
        "while(j<n):\n",
        "  nums1[k] = nums2[j]\n",
        "  j += 1\n",
        "  k += 1\n",
        "\n",
        "print(nums1)\n",
        "\n",
        "# second Approach\n",
        "nums1[:] = sorted(nums1[:m] + nums2[:n])"
      ],
      "metadata": {
        "colab": {
          "base_uri": "https://localhost:8080/"
        },
        "id": "JCC22b71eUj5",
        "outputId": "86cafd2d-f4d8-470e-ca29-a8eb8d4b49a6"
      },
      "execution_count": null,
      "outputs": [
        {
          "output_type": "stream",
          "name": "stdout",
          "text": [
            "in i:::: 1\n",
            "in J:::: 2\n",
            "in i:::: 2\n",
            "in i:::: 2\n",
            "[1, 2, 2, 2, 0, 0]\n",
            "[1, 2, 2, 2, 5, 6]\n"
          ]
        }
      ]
    },
    {
      "cell_type": "code",
      "source": [
        "# 283. Move Zeroes\n",
        "# Input:\n",
        "nums = [0,1,0,3,12]\n",
        "# Output: [1,3,12,0,0]\n",
        "i = 0\n",
        "for j in range(len(nums)):\n",
        "  if nums[j] !=0:\n",
        "    nums[i], nums[j] = nums[j], nums[i]\n",
        "    i += 1\n",
        "print(nums)"
      ],
      "metadata": {
        "colab": {
          "base_uri": "https://localhost:8080/"
        },
        "id": "ZYicfqQLsY3j",
        "outputId": "5b53dbb9-f3fa-4f83-b86f-12e5cae56a7c"
      },
      "execution_count": null,
      "outputs": [
        {
          "output_type": "stream",
          "name": "stdout",
          "text": [
            "[1, 3, 12, 0, 0]\n"
          ]
        }
      ]
    },
    {
      "cell_type": "code",
      "source": [
        "# 189. Rotate Array\n",
        "# formula to get the rotating position (i+k)% len(nums)\n",
        "nums = [1,2,3,4,5,6,7]\n",
        "k = 3\n",
        "# Output: [5,6,7,1,2,3,4]\n",
        "temp[:] = nums\n",
        "for i in range(len(nums)):\n",
        "  temp[(i+k)% len(nums)]  = nums[i]\n",
        "nums[:] = temp\n",
        "\n",
        "print(nums)"
      ],
      "metadata": {
        "id": "ZD7UKSb9ygIr",
        "colab": {
          "base_uri": "https://localhost:8080/"
        },
        "outputId": "f577189c-1587-491e-d823-aa6beb1b3aaf"
      },
      "execution_count": null,
      "outputs": [
        {
          "output_type": "stream",
          "name": "stdout",
          "text": [
            "[5, 6, 7, 1, 2, 3, 4]\n"
          ]
        }
      ]
    },
    {
      "cell_type": "code",
      "source": [
        "'''\n",
        "1752. Check if Array Is Sorted and Rotated\n",
        "\n",
        "Given an array nums, return true if the array was originally sorted in non-decreasing order, then rotated some number of positions (including zero). Otherwise, return false.\n",
        "\n",
        "There may be duplicates in the original array.\n",
        "\n",
        "Note: An array A rotated by x positions results in an array B of the same length such that A[i] == B[(i+x) % A.length], where % is the modulo operation.\n",
        "\n",
        "\n",
        "\n",
        "Example 1:\n",
        "\n",
        "Input: nums = [3,4,5,1,2]\n",
        "Output: true\n",
        "Explanation: [1,2,3,4,5] is the original sorted array.\n",
        "You can rotate the array by x = 3 positions to begin on the the element of value 3: [3,4,5,1,2].\n",
        "Example 2:\n",
        "\n",
        "Input: nums = [2,1,3,4]\n",
        "Output: false\n",
        "Explanation: There is no sorted array once rotated that can make nums.\n",
        "Example 3:\n",
        "\n",
        "Input: nums = [1,2,3]\n",
        "Output: true\n",
        "Explanation: [1,2,3] is the original sorted array.\n",
        "You can rotate the array by x = 0 positions (i.e. no rotation) to make nums.\n",
        "'''\n",
        "\n",
        "\n",
        "class Solution:\n",
        "  def check(self, nums: List[int]) -> bool:\n",
        "      count = 0\n",
        "      n = len(nums)\n",
        "\n",
        "      for i in range(1, n):\n",
        "          if nums[i-1] > nums[i]:\n",
        "              count +=1\n",
        "\n",
        "      #check for last and first element\n",
        "      if nums[n-1] > nums[0]:\n",
        "          count += 1\n",
        "      return count <= 1"
      ],
      "metadata": {
        "colab": {
          "base_uri": "https://localhost:8080/"
        },
        "id": "p0KnQHzLEvh-",
        "outputId": "34969a1a-f2d9-44ff-ce71-387988bc33a9"
      },
      "execution_count": null,
      "outputs": [
        {
          "output_type": "execute_result",
          "data": {
            "text/plain": [
              "7"
            ]
          },
          "metadata": {},
          "execution_count": 22
        }
      ]
    },
    {
      "cell_type": "code",
      "source": [
        "a = [1,2,3]\n",
        "b = [5,0]\n",
        "n = len(a)\n",
        "m = len(b)\n",
        "i = n-1\n",
        "j = m-1\n",
        "carry = 0\n",
        "ans = []\n",
        "\n",
        "while(i>=0 and j>=0):\n",
        "        val1 = a[i]\n",
        "        val2 = b[j]\n",
        "        summ = val1+val2+carry\n",
        "        caryy = summ//10\n",
        "        summ = summ%10\n",
        "        ans.append(summ)\n",
        "        i -= 1\n",
        "        j -= 1\n",
        "\n",
        "\n",
        "# first case\n",
        "while(i>=0):\n",
        "    summ = a[i]+ carry\n",
        "    carry = summ//10\n",
        "    summ = summ%10\n",
        "    ans.append(summ)\n",
        "    i -= 1\n",
        "\n",
        "# second case\n",
        "while(j>=0):\n",
        "\n",
        "    summ = b[j]+ carry\n",
        "    carry = summ//10\n",
        "    summ = summ%10\n",
        "    ans.append(summ)\n",
        "    j -= 1\n",
        "\n",
        "# third case\n",
        "while(carry!=0):\n",
        "    summ = carry\n",
        "    carry = summ//10\n",
        "    summ = summ%10\n",
        "    ans.append(summ)\n",
        "\n",
        "\n",
        "\n",
        "ans = ans[::-1]\n",
        "print(type(ans))\n",
        "print(ans)"
      ],
      "metadata": {
        "id": "0_q7SjyfG-u2",
        "colab": {
          "base_uri": "https://localhost:8080/"
        },
        "outputId": "c6a9ff48-2c72-4a4b-dcae-1468165675cf"
      },
      "execution_count": null,
      "outputs": [
        {
          "output_type": "stream",
          "name": "stdout",
          "text": [
            "<class 'list'>\n",
            "[1, 7, 3]\n"
          ]
        }
      ]
    },
    {
      "cell_type": "code",
      "source": [
        "Enter a number: 12345\n",
        "# Reverse of teh number: 54321\n",
        "\n",
        "num = 12345\n",
        "digit = 0\n",
        "ans = 0\n",
        "while(num!=0):\n",
        "  digit = num%10\n",
        "  ans  = ans*10 +digit\n",
        "  num = num//10"
      ],
      "metadata": {
        "id": "Du-nbOgtHGSo"
      },
      "execution_count": null,
      "outputs": []
    },
    {
      "cell_type": "code",
      "source": [
        "# Anagram Program in Python\n",
        "s1 = 'bat'\n",
        "s2 = 'tab'\n",
        "if sorted(s1) == sorted(s2):\n",
        "  print('anagram')\n",
        "else:\n",
        "  print('not an anagram')"
      ],
      "metadata": {
        "colab": {
          "base_uri": "https://localhost:8080/"
        },
        "id": "34CDPtwyttfl",
        "outputId": "2c672a77-50b9-4710-abfd-9d09f756f059"
      },
      "execution_count": null,
      "outputs": [
        {
          "output_type": "stream",
          "name": "stdout",
          "text": [
            "anagram\n"
          ]
        }
      ]
    },
    {
      "cell_type": "code",
      "source": [
        "n = 8\n",
        "num = 1\n",
        "for i in range(1,n+1):\n",
        "\n",
        "        num = i**3\n",
        "\n",
        "        if num > n:\n",
        "            break\n",
        "        print(num)\n"
      ],
      "metadata": {
        "colab": {
          "base_uri": "https://localhost:8080/"
        },
        "id": "JjZ75ekJvp6K",
        "outputId": "facf95a1-813b-4098-80c4-d4312f0d2ed9"
      },
      "execution_count": null,
      "outputs": [
        {
          "output_type": "stream",
          "name": "stdout",
          "text": [
            "1\n",
            "8\n"
          ]
        }
      ]
    },
    {
      "cell_type": "code",
      "source": [
        "for i in range (5,0,-1):\n",
        "        print(i*('*'))\n",
        "for i in range(1,5+1):\n",
        "    print(i*('*'))"
      ],
      "metadata": {
        "colab": {
          "base_uri": "https://localhost:8080/"
        },
        "id": "SmbOed392PFw",
        "outputId": "6a2b0c99-b6e2-4423-f9ee-2f3afe310417"
      },
      "execution_count": null,
      "outputs": [
        {
          "output_type": "stream",
          "name": "stdout",
          "text": [
            "*****\n",
            "****\n",
            "***\n",
            "**\n",
            "*\n",
            "*\n",
            "**\n",
            "***\n",
            "****\n",
            "*****\n"
          ]
        }
      ]
    },
    {
      "cell_type": "code",
      "source": [
        "def generate_primes(n):\n",
        "    primes = []\n",
        "    num = 2  # Starting from the first prime number\n",
        "\n",
        "    while len(primes) < n:\n",
        "        is_prime = True\n",
        "\n",
        "        # Check if num is divisible by any previous prime numbers\n",
        "        for prime in primes:\n",
        "            if num % prime == 0:\n",
        "                is_prime = False\n",
        "                break\n",
        "\n",
        "        # If num is not divisible by any previous primes, add it to the list\n",
        "        if is_prime:\n",
        "            primes.append(num)\n",
        "\n",
        "        num += 1\n",
        "\n",
        "    return primes\n",
        "\n",
        "# Example usage:\n",
        "n = 5  # Replace 5 with the desired value\n",
        "result = generate_primes(n)\n",
        "\n",
        "# Print the result (array of first n prime numbers)\n",
        "print(result)\n"
      ],
      "metadata": {
        "id": "SMZ_l4aZHJwe"
      },
      "execution_count": null,
      "outputs": []
    },
    {
      "cell_type": "code",
      "source": [
        "def print_pattern(rows):\n",
        "    for i in range(1, rows + 1):\n",
        "        print('*' * i + ' ' * (rows - i) + '*' * (i))\n",
        "\n",
        "# Example usage\n",
        "rows = 5  # You can change this value to adjust the number of rows\n",
        "print_pattern(rows)\n"
      ],
      "metadata": {
        "colab": {
          "base_uri": "https://localhost:8080/"
        },
        "id": "XYuzdF7gA83J",
        "outputId": "89d6a0fa-1325-4f98-a142-e01ee8d376be"
      },
      "execution_count": null,
      "outputs": [
        {
          "output_type": "stream",
          "name": "stdout",
          "text": [
            "*    *\n",
            "**   **\n",
            "***  ***\n",
            "**** ****\n",
            "**********\n"
          ]
        }
      ]
    },
    {
      "cell_type": "code",
      "source": [
        "row-(5+1)"
      ],
      "metadata": {
        "colab": {
          "base_uri": "https://localhost:8080/"
        },
        "id": "H73rMMoe-an1",
        "outputId": "0bb33626-9c4c-406c-dd2b-7d5d2fc13ebf"
      },
      "execution_count": null,
      "outputs": [
        {
          "output_type": "execute_result",
          "data": {
            "text/plain": [
              "-1"
            ]
          },
          "metadata": {},
          "execution_count": 46
        }
      ]
    },
    {
      "cell_type": "code",
      "source": [
        "'palindrome'\n",
        "\n",
        "s = 'A1b22Ba'\n",
        "s = ''.join(filter(str.isalnum, s)).lower()\n",
        "print(s)\n",
        "st = 0\n",
        "en = len(s)-1\n",
        "while(st<=en):\n",
        "  if s[st].lower() != s[en].lower():\n",
        "    print('No')\n",
        "    break\n",
        "\n",
        "  else:\n",
        "    st += 1\n",
        "    en -= 1\n",
        "\n",
        "print('Yes')\n"
      ],
      "metadata": {
        "id": "yeBHTqCSuHqG",
        "colab": {
          "base_uri": "https://localhost:8080/"
        },
        "outputId": "ea7c5afc-1e04-40bf-e724-fe69be6b93c2"
      },
      "execution_count": null,
      "outputs": [
        {
          "output_type": "stream",
          "name": "stdout",
          "text": [
            "a1b22ba\n",
            "No\n",
            "Yes\n"
          ]
        }
      ]
    },
    {
      "cell_type": "code",
      "source": [
        "s = 'testsample'\n",
        "from collections import Counter\n",
        "s = ''.join(sorted(s)).strip()\n",
        "ans = {key:value for key,value in Counter(s).items()}\n",
        "max(ans, key = ans.get)\n"
      ],
      "metadata": {
        "colab": {
          "base_uri": "https://localhost:8080/",
          "height": 36
        },
        "id": "-rglyojaQbXD",
        "outputId": "3a2dd129-68e1-48a3-a439-887432388485"
      },
      "execution_count": null,
      "outputs": [
        {
          "output_type": "execute_result",
          "data": {
            "text/plain": [
              "'e'"
            ],
            "application/vnd.google.colaboratory.intrinsic+json": {
              "type": "string"
            }
          },
          "metadata": {},
          "execution_count": 18
        }
      ]
    },
    {
      "cell_type": "code",
      "source": [
        "new = ''.join(sorted(s))"
      ],
      "metadata": {
        "id": "Xqr2KWZqUvnj"
      },
      "execution_count": null,
      "outputs": []
    },
    {
      "cell_type": "code",
      "source": [
        "#Remove duplicates from list of dict\n",
        "books = [\n",
        "\n",
        "{ 'title': \"C++\", 'author': \"Bjarne\" },\n",
        "{ 'title': \"Java\", 'author': \"James\" },\n",
        "{ 'title': \"Python\", 'author': \"Guido\" },\n",
        "{ 'title': \"Java\", 'author': \"James\" },\n",
        "{ 'title': \"Python\", 'author': \"Guido\" },\n",
        "{ 'title': \"C++\", 'author': \"Bjarne\" },]\n",
        "\n",
        "result = []\n",
        "for book in books:\n",
        "  if book not in result:\n",
        "    result.append(book)\n",
        "\n",
        "print(result)"
      ],
      "metadata": {
        "colab": {
          "base_uri": "https://localhost:8080/"
        },
        "id": "EFAvg_A2FIHs",
        "outputId": "19c3e882-d033-4720-e836-0c90fe871540"
      },
      "execution_count": null,
      "outputs": [
        {
          "output_type": "stream",
          "name": "stdout",
          "text": [
            "[{'title': 'C++', 'author': 'Bjarne'}, {'title': 'Java', 'author': 'James'}, {'title': 'Python', 'author': 'Guido'}]\n"
          ]
        }
      ]
    },
    {
      "cell_type": "code",
      "source": [
        "#Merge dict values into list of values for same keys\n",
        "inputA = {'a': 1,\n",
        "'b': 2,\n",
        "'c': 3\n",
        "}\n",
        "#let\n",
        "inputB = {\n",
        "'b': 3,\n",
        "'c': 4,\n",
        "'d': 5\n",
        "}\n",
        "\"\"\"\n",
        "Output -\n",
        "{\n",
        "a: 1\n",
        "b: [2,3]\n",
        "c: [3,4]\n",
        "d: 5\n",
        "}\n",
        "\"\"\"\n",
        "result = inputA.copy()\n",
        "for i in inputB.keys():\n",
        "  if i in result:\n",
        "    result[i] = [result[i]]\n",
        "    result[i].append(inputB[i])\n",
        "  else:\n",
        "    result[i] = inputB[i]\n",
        "print(result)"
      ],
      "metadata": {
        "id": "2TXGJQs6HbVh",
        "colab": {
          "base_uri": "https://localhost:8080/"
        },
        "outputId": "5f0259dd-6563-4f96-be29-bd3840b9d799"
      },
      "execution_count": null,
      "outputs": [
        {
          "output_type": "stream",
          "name": "stdout",
          "text": [
            "{'a': 1, 'b': [2, 3], 'c': [3, 4], 'd': 5}\n"
          ]
        }
      ]
    },
    {
      "cell_type": "code",
      "source": [
        "\n",
        "result.keys()"
      ],
      "metadata": {
        "colab": {
          "base_uri": "https://localhost:8080/"
        },
        "id": "Hop0xuWU94NJ",
        "outputId": "ba4e1894-87eb-41ec-ca63-0c7421fbe517"
      },
      "execution_count": null,
      "outputs": [
        {
          "output_type": "execute_result",
          "data": {
            "text/plain": [
              "dict_keys(['a', 'b', 'c', 'd'])"
            ]
          },
          "metadata": {},
          "execution_count": 15
        }
      ]
    },
    {
      "cell_type": "code",
      "source": [
        "from numpy import sort\n",
        "#Second max element from list\n",
        "data = [10, 80, 20, 30, 70]\n",
        "largest = 0\n",
        "second_largest = 0\n",
        "for i in range(len(data)):\n",
        "  if data[i] > largest:\n",
        "    sencond_largest = largest\n",
        "    largest = data[i]\n",
        "  # elif data[i]<largest and data[i]> second_largest:\n",
        "  #   second_largest = data[i]\n",
        "  else:\n",
        "    second_largest = data[i]\n",
        "print(second_largest)\n",
        "\n",
        "# second Approach\n",
        "second_largest = sort(list(set(data)))[-2]\n"
      ],
      "metadata": {
        "colab": {
          "base_uri": "https://localhost:8080/"
        },
        "id": "w90ArAye-Yla",
        "outputId": "14d2a586-2b6b-4370-9e4d-3cac03082625"
      },
      "execution_count": null,
      "outputs": [
        {
          "output_type": "stream",
          "name": "stdout",
          "text": [
            "70\n"
          ]
        }
      ]
    },
    {
      "cell_type": "markdown",
      "source": [
        "An Anagram is a word or phrase formed by rearranging the letters of a different word or\n",
        "phrase, typically using all the original letters exactly once.\n",
        "Example 1:\n",
        "Input: strs = [\"eat\",\"tea\",\"tan\",\"ate\",\"nat\",\"bat\"]\n",
        "Output: [[\"bat\"],[\"nat\",\"tan\"],[\"ate\",\"eat\",\"tea\"]]\n",
        "Example 2:\n",
        "Input: strs = [\"\"]\n",
        "Output: [[\"\"]]\n",
        "Example 3:\n",
        "Input: strs = [\"a\"]\n",
        "Output: [[\"a\"]]\n",
        "\n",
        "---\n",
        "\n"
      ],
      "metadata": {
        "id": "vyUqB3Z3Tdgk"
      }
    },
    {
      "cell_type": "code",
      "source": [
        "\n",
        "from collections import defaultdict\n",
        "strs = [\"eat\",\"tea\",\"tan\",\"ate\",\"nat\",\"bat\"]\n",
        "\n",
        "anagram_map = defaultdict(list)\n",
        "\n",
        "for word in strs:\n",
        "    sorted_word = ''.join(sorted(word))\n",
        "    anagram_map[sorted_word].append(word)\n",
        "print(list(anagram_map.values()))"
      ],
      "metadata": {
        "id": "ubEqxMp2O92c",
        "colab": {
          "base_uri": "https://localhost:8080/"
        },
        "outputId": "e7a8487d-a0d7-4ebf-ad96-adb3a1157cb1"
      },
      "execution_count": null,
      "outputs": [
        {
          "output_type": "stream",
          "name": "stdout",
          "text": [
            "[['eat', 'tea', 'ate'], ['tan', 'nat'], ['bat']]\n"
          ]
        }
      ]
    },
    {
      "cell_type": "code",
      "source": [
        "anagram_map"
      ],
      "metadata": {
        "colab": {
          "base_uri": "https://localhost:8080/"
        },
        "id": "rHsAe3BrAHBs",
        "outputId": "5d1fe0a3-a78b-4c30-a896-4ff921747dad"
      },
      "execution_count": null,
      "outputs": [
        {
          "output_type": "execute_result",
          "data": {
            "text/plain": [
              "defaultdict(list,\n",
              "            {'aet': ['eat', 'tea', 'ate'],\n",
              "             'ant': ['tan', 'nat'],\n",
              "             'abt': ['bat']})"
            ]
          },
          "metadata": {},
          "execution_count": 11
        }
      ]
    },
    {
      "cell_type": "code",
      "source": [
        "#List comprehension extend\n",
        "a=[[1,2],[3,4],[5,6]]\n",
        "# output = [1, 2, 3, 4, 5, 6]\n",
        "[a[0].extend(i) for i in a[1:]]\n",
        "\n",
        "\n",
        "print(a[0])"
      ],
      "metadata": {
        "colab": {
          "base_uri": "https://localhost:8080/"
        },
        "id": "ZYRiKynId3Uw",
        "outputId": "4dce71e2-7ea6-401b-86ba-93929f695b2e"
      },
      "execution_count": null,
      "outputs": [
        {
          "output_type": "stream",
          "name": "stdout",
          "text": [
            "[1, 2, 3, 4, 5, 6]\n"
          ]
        }
      ]
    },
    {
      "cell_type": "markdown",
      "source": [
        "User exist\n",
        "\"\"\"\n",
        "1. Check User Exists in models\n",
        "user1 = 'user'\n",
        "user.objects.filter(UserName=user1)\n",
        "2. get 3rd max salary from models\n",
        "x = salary.objects.distinct('Amount').order_by('-Amount')[:3]\n",
        "\n",
        "\n",
        "\"\"\""
      ],
      "metadata": {
        "id": "bC7XqJu7ni34"
      }
    },
    {
      "cell_type": "code",
      "source": [
        "# 3.sort list of elements without using any inbuild function\n",
        "list1 = [\"15\", \"3\", \"5\", \"1\", \"42\", \"0\", \"4\"]\n",
        "# O/P = [0,1,3,4,5,15,42]\n",
        "\n",
        "for i in range(1,len(list1)):\n",
        "  for j in range(len(list1)-i):\n",
        "    if int(list1[j]) > int(list1[j+1]):\n",
        "      list1[j], list1[j+1] = int(list1[j+1]), int(list1[j])\n",
        "print(list1)"
      ],
      "metadata": {
        "colab": {
          "base_uri": "https://localhost:8080/"
        },
        "id": "oD3xtJJNhHZM",
        "outputId": "59c53e76-ebfb-4527-bc91-d12c1282e16e"
      },
      "execution_count": null,
      "outputs": [
        {
          "output_type": "stream",
          "name": "stdout",
          "text": [
            "[0, 1, 3, 4, 5, 15, 42]\n"
          ]
        }
      ]
    },
    {
      "cell_type": "markdown",
      "source": [
        "\"\"\"\n",
        "Find the first unique character from the string without using any inbuild function\n",
        "E.g str1 = \"Congratulations C\"\n",
        "O/P - g\n",
        "\"\"\"\n",
        "str1 = \"x Conxgratulations C\""
      ],
      "metadata": {
        "id": "6eC7g70Xz4Yq"
      }
    },
    {
      "cell_type": "code",
      "source": [
        "str1 = \"Congratulations C\"\n",
        "\n",
        "from collections import Counter\n",
        "d = dict()\n",
        "for char in str1:\n",
        "  d[char] = d.get(char,0)+1\n",
        "\n",
        "print(d)\n",
        "for key in d.keys():\n",
        "  if d[key]==1:\n",
        "    ans.append(key)\n",
        "print(ans[0])\n",
        "\n",
        "# second approach\n",
        "d = {key:value for key,value in Counter(str1).items()}\n",
        "ans = min(d, key = d.get)\n",
        "print(ans)"
      ],
      "metadata": {
        "colab": {
          "base_uri": "https://localhost:8080/"
        },
        "id": "ljxrzvBqhKhl",
        "outputId": "2a54b2a8-427a-41a8-e0b0-88c7a52819cd"
      },
      "execution_count": null,
      "outputs": [
        {
          "output_type": "stream",
          "name": "stdout",
          "text": [
            "{'C': 2, 'o': 2, 'n': 2, 'g': 1, 'r': 1, 'a': 2, 't': 2, 'u': 1, 'l': 1, 'i': 1, 's': 1, ' ': 1}\n",
            "g\n",
            "g\n"
          ]
        }
      ]
    },
    {
      "cell_type": "code",
      "source": [
        "#Binary Search\n",
        "k = 10\n",
        "data = [1, 5, 7, 10, 16, 20]\n",
        "\n",
        "s = 0\n",
        "e = len(data)-1\n",
        "\n",
        "\n",
        "\n",
        "while(s<e):\n",
        "\n",
        "  if data[mid] == k:\n",
        "    print('key found at position::', mid)\n",
        "\n",
        "  elif k < data[mid]:\n",
        "    e = mid-1\n",
        "  elif k > data[mid]:\n",
        "    s = mid + 1\n",
        "  mid = (s+e)//2\n",
        "\n",
        "\n",
        "\n",
        "\n",
        "\n",
        "\n"
      ],
      "metadata": {
        "colab": {
          "base_uri": "https://localhost:8080/"
        },
        "id": "wVdafZ-jhcm4",
        "outputId": "033fc766-6e19-426a-8ce6-433bc4dbf652"
      },
      "execution_count": null,
      "outputs": [
        {
          "output_type": "stream",
          "name": "stdout",
          "text": [
            "key found at position:: 3\n"
          ]
        }
      ]
    },
    {
      "cell_type": "code",
      "source": [
        "#Decimal to binary\n",
        "def decimal_to_binary(d):\n",
        "\n"
      ],
      "metadata": {
        "colab": {
          "base_uri": "https://localhost:8080/"
        },
        "id": "7-X97I5hGB51",
        "outputId": "6a1fba0d-cfa3-4f06-eafe-d3227015ae02"
      },
      "execution_count": null,
      "outputs": [
        {
          "output_type": "stream",
          "name": "stdout",
          "text": [
            "reached\n"
          ]
        }
      ]
    },
    {
      "cell_type": "code",
      "source": [
        "d = 6\n",
        "ans = 0\n",
        "i = 0\n",
        "while(d!=0):\n",
        "  b = d%2\n",
        "  ans += b* 10 **i\n",
        "  d = d//2\n",
        "  i += 1\n",
        "print(ans)\n"
      ],
      "metadata": {
        "id": "KCtgtS_n3DN8",
        "colab": {
          "base_uri": "https://localhost:8080/"
        },
        "outputId": "a717029f-e90d-45ad-96a3-2651b5ab14f1"
      },
      "execution_count": null,
      "outputs": [
        {
          "output_type": "stream",
          "name": "stdout",
          "text": [
            "110\n"
          ]
        }
      ]
    },
    {
      "cell_type": "code",
      "source": [],
      "metadata": {
        "colab": {
          "base_uri": "https://localhost:8080/"
        },
        "id": "o0oG_VkqYtGZ",
        "outputId": "0a28a486-4efb-4155-a1df-4ecc3be942bd"
      },
      "execution_count": null,
      "outputs": [
        {
          "output_type": "execute_result",
          "data": {
            "text/plain": [
              "100"
            ]
          },
          "metadata": {},
          "execution_count": 33
        }
      ]
    },
    {
      "cell_type": "code",
      "source": [
        "arr = [1,2,3,5]\n",
        "n = 5\n",
        "ans = [False] * 5\n",
        "missing_value = -1\n",
        "print(ans)\n",
        "for i in range(n):\n",
        "  if i+1 in arr:\n",
        "    ans[i] = True\n",
        "  else:\n",
        "    missing_value = i+1\n",
        "print(ans)\n",
        "print(missing_value)"
      ],
      "metadata": {
        "colab": {
          "base_uri": "https://localhost:8080/"
        },
        "id": "lafBEIJwGQ9g",
        "outputId": "0940b8e6-a023-4fe9-9858-ebdb5f0f14fd"
      },
      "execution_count": null,
      "outputs": [
        {
          "output_type": "stream",
          "name": "stdout",
          "text": [
            "[False, False, False, False, False]\n",
            "[True, True, True, False, True]\n",
            "4\n"
          ]
        }
      ]
    },
    {
      "cell_type": "code",
      "source": [
        "str1 = \"Ab,c,de!$\"\n",
        "# Output:  str = \"ed,c,bA!$\"\n",
        "str1 = list(str1)\n",
        "s = 0\n",
        "e = len(str1)-1\n",
        "\n",
        "while(s<e):\n",
        "  if str1[s].isalnum() == False:\n",
        "    s += 1\n",
        "  elif str1[e].isalnum() == False :\n",
        "    e -= 1\n",
        "  else:\n",
        "    str1[s], str1[e] = str1[e], str1[s]\n",
        "    s += 1\n",
        "    e -= 1\n",
        "str1 = ''.join([i for i in str1])"
      ],
      "metadata": {
        "id": "_82u99_JUpZc"
      },
      "execution_count": null,
      "outputs": []
    },
    {
      "cell_type": "code",
      "source": [
        "str1"
      ],
      "metadata": {
        "colab": {
          "base_uri": "https://localhost:8080/",
          "height": 36
        },
        "id": "ppHfuPayWHkU",
        "outputId": "69b0eee9-2ca8-4ac3-b410-8ae713765a22"
      },
      "execution_count": null,
      "outputs": [
        {
          "output_type": "execute_result",
          "data": {
            "text/plain": [
              "'ed,c,bA!$'"
            ],
            "application/vnd.google.colaboratory.intrinsic+json": {
              "type": "string"
            }
          },
          "metadata": {},
          "execution_count": 11
        }
      ]
    },
    {
      "cell_type": "code",
      "source": [
        "str1 = 'Coding Ninjas Is A Coding Platform'\n",
        "# outpu = Coding@40Ninjas@40Is@40A@40Coding@40Platform\n",
        "str1.replace(' ', '@40')"
      ],
      "metadata": {
        "colab": {
          "base_uri": "https://localhost:8080/",
          "height": 36
        },
        "id": "coMC3Z5OWN-O",
        "outputId": "4b253ab1-071a-427c-a5a7-4e80e31c5030"
      },
      "execution_count": null,
      "outputs": [
        {
          "output_type": "execute_result",
          "data": {
            "text/plain": [
              "'Coding@Ninjas@Is@A@Coding@Platform'"
            ],
            "application/vnd.google.colaboratory.intrinsic+json": {
              "type": "string"
            }
          },
          "metadata": {},
          "execution_count": 14
        }
      ]
    },
    {
      "cell_type": "markdown",
      "source": [
        "Input: s = \"daabcbaabcbc\", part = \"abc\"\n",
        "Output: \"dab\"\n",
        "Explanation: The following operations are done:\n",
        "- s = \"daabcbaabcbc\", remove \"abc\" starting at index 2, so s = \"dabaabcbc\".\n",
        "- s = \"dabaabcbc\", remove \"abc\" starting at index 4, so s = \"dababc\".\n",
        "- s = \"dababc\", remove \"abc\" starting at index 3, so s = \"dab\".\n",
        "Now s has no occurrences of \"abc\"."
      ],
      "metadata": {
        "id": "mWEdNkAve2Qb"
      }
    },
    {
      "cell_type": "code",
      "source": [
        "s = \"daabcbaabcbc\"\n",
        "part = 'abc'\n",
        "while part in s:\n",
        "  s = s.replace(part, '',1)\n",
        "print(s)"
      ],
      "metadata": {
        "colab": {
          "base_uri": "https://localhost:8080/"
        },
        "id": "9shFlnSEbgSw",
        "outputId": "451fb99d-80b1-4fe3-c892-33387765cc72"
      },
      "execution_count": null,
      "outputs": [
        {
          "output_type": "stream",
          "name": "stdout",
          "text": [
            "dab\n"
          ]
        }
      ]
    },
    {
      "cell_type": "code",
      "source": [],
      "metadata": {
        "colab": {
          "base_uri": "https://localhost:8080/"
        },
        "id": "y8_1bk0lbhnx",
        "outputId": "27fc8ca8-bd63-4395-ce25-fb4cd4eb4827"
      },
      "execution_count": null,
      "outputs": [
        {
          "output_type": "stream",
          "name": "stdout",
          "text": [
            "aabababa\n",
            "ababa\n",
            "ba\n"
          ]
        }
      ]
    },
    {
      "cell_type": "code",
      "source": [
        "str1 = ['abc','cfg']\n",
        "s = ','.join([t for t in str1])"
      ],
      "metadata": {
        "id": "1gjr8FiLh8r9"
      },
      "execution_count": null,
      "outputs": []
    },
    {
      "cell_type": "code",
      "source": [
        "operations = [\"X++\",\"++X\",\"--X\",\"X--\"]\n",
        "X = 0\n",
        "for op in  operations:\n",
        "  if  '--' in op:\n",
        "      X -= 1\n",
        "  else:\n",
        "      X += 1\n",
        "\n",
        "print(X)"
      ],
      "metadata": {
        "id": "ZjsjKRV9sH0T",
        "outputId": "327e31da-c370-472e-a10c-dc2e3b6ccbff",
        "colab": {
          "base_uri": "https://localhost:8080/"
        }
      },
      "execution_count": null,
      "outputs": [
        {
          "output_type": "stream",
          "name": "stdout",
          "text": [
            "0\n"
          ]
        }
      ]
    },
    {
      "cell_type": "code",
      "source": [
        "jewels = \"aA\"\n",
        "stones = \"aAAbbbb\"\n",
        "\n",
        "\n",
        "from collections import Counter\n",
        "result = 0\n",
        "count = {key:value for key,value in Counter(stones).items()}\n",
        "print(count)\n",
        "\n",
        "for j in jewels:\n",
        "  if j in count.keys():\n",
        "    if count[j] != 0:\n",
        "      result += 1\n",
        "      count[j] -= 1\n",
        "\n",
        "print(count)\n",
        "print(result)"
      ],
      "metadata": {
        "colab": {
          "base_uri": "https://localhost:8080/"
        },
        "id": "r7u356nwQWcD",
        "outputId": "737808f2-f36e-4878-fd38-1d084255c5b1"
      },
      "execution_count": null,
      "outputs": [
        {
          "output_type": "stream",
          "name": "stdout",
          "text": [
            "{'a': 1, 'A': 2, 'b': 4}\n",
            "{'a': 0, 'A': 1, 'b': 4}\n",
            "2\n"
          ]
        }
      ]
    },
    {
      "cell_type": "code",
      "source": [
        "jewels = \"aA\"\n",
        "stones = \"aAAbbbb\"\n",
        "count = 0\n",
        "for s in stones:\n",
        "  if s in jewels:\n",
        "    count +=1\n",
        "print(count)\n",
        "\n"
      ],
      "metadata": {
        "colab": {
          "base_uri": "https://localhost:8080/"
        },
        "id": "_0WbbPc7Qm39",
        "outputId": "05982a22-e31e-4526-c494-63c5586bcbe5"
      },
      "execution_count": null,
      "outputs": [
        {
          "output_type": "stream",
          "name": "stdout",
          "text": [
            "3\n"
          ]
        }
      ]
    },
    {
      "cell_type": "code",
      "source": [
        "def countPrimes(self, n: int) -> int:\n",
        "        if n==0 or n==1:\n",
        "            return 0\n",
        "        prime = [True]*n\n",
        "        prime[0], prime[1] = False,False\n",
        "        count = 0\n",
        "\n",
        "        for i in range(2,n):\n",
        "            if prime[i]:\n",
        "                count +=1\n",
        "                for j in range(2*i,n, i):\n",
        "                    prime[j] = False\n",
        "        return count\n",
        "\n",
        "\n",
        "\n",
        "\n",
        "\n"
      ],
      "metadata": {
        "id": "eb0pQAcPWtR6",
        "colab": {
          "base_uri": "https://localhost:8080/"
        },
        "outputId": "09844cd0-1d5e-4bcd-e9da-69488ce23351"
      },
      "execution_count": null,
      "outputs": [
        {
          "output_type": "stream",
          "name": "stdout",
          "text": [
            "13\n"
          ]
        }
      ]
    },
    {
      "cell_type": "code",
      "source": [
        "from requests_html import HTMLSession\n",
        "from bs4 import BeautifulSoup\n",
        "\n",
        "from time import sleep\n",
        "import json\n",
        "import pandas as pd\n",
        "\n",
        "url = 'https://500.co/companies'\n",
        "\n",
        "session = HTMLSession()\n",
        "r = session.get('https://cms.500.co/wp-json/companies-airtable/v1/all')\n",
        "print(r)\n",
        "\n",
        "companies = json.loads(r.text)\n",
        "\n",
        "companies_details = []\n",
        "# getting all companies detail by iterating on each dictionary\n",
        "for i,c in enumerate(companies):\n",
        "    print(i)\n",
        "    company = {}\n",
        "    company['ID'] = c['id']\n",
        "    company['CreatedTime'] = c['createdTime']\n",
        "    try:\n",
        "        company['Name'] = c['fields']['Company Alternative Name(s)'].split(';')[0]\n",
        "    except:\n",
        "        company['Name'] = c['fields']['Legal Name']\n",
        "    company['Industry'] = c['fields']['Industry']\n",
        "    try:\n",
        "        company['Sub Industry'] = ','.join([t for t in c['fields']['Sub-industry']])\n",
        "    except:\n",
        "        company['Sub Industry'] = '-'\n",
        "    try:\n",
        "        company['Country'] = c['fields']['Country']\n",
        "    except:\n",
        "        company['Country'] = '-'\n",
        "\n",
        "    companies_details.append(company)\n",
        "\n",
        "df = pd.DataFrame(companies_details)\n",
        "print(df)\n",
        "# companies_detail = df.to_csv('companies_detail.csv', index=False)\n"
      ],
      "metadata": {
        "colab": {
          "base_uri": "https://localhost:8080/",
          "height": 383
        },
        "id": "aW0co5VfuPzq",
        "outputId": "eab16587-c07b-4d80-e698-734cfdb114b7"
      },
      "execution_count": null,
      "outputs": [
        {
          "output_type": "error",
          "ename": "ModuleNotFoundError",
          "evalue": "ignored",
          "traceback": [
            "\u001b[0;31m---------------------------------------------------------------------------\u001b[0m",
            "\u001b[0;31mModuleNotFoundError\u001b[0m                       Traceback (most recent call last)",
            "\u001b[0;32m<ipython-input-2-5f10245474d5>\u001b[0m in \u001b[0;36m<cell line: 1>\u001b[0;34m()\u001b[0m\n\u001b[0;32m----> 1\u001b[0;31m \u001b[0;32mfrom\u001b[0m \u001b[0mrequests_html\u001b[0m \u001b[0;32mimport\u001b[0m \u001b[0mHTMLSession\u001b[0m\u001b[0;34m\u001b[0m\u001b[0;34m\u001b[0m\u001b[0m\n\u001b[0m\u001b[1;32m      2\u001b[0m \u001b[0;32mfrom\u001b[0m \u001b[0mbs4\u001b[0m \u001b[0;32mimport\u001b[0m \u001b[0mBeautifulSoup\u001b[0m\u001b[0;34m\u001b[0m\u001b[0;34m\u001b[0m\u001b[0m\n\u001b[1;32m      3\u001b[0m \u001b[0;34m\u001b[0m\u001b[0m\n\u001b[1;32m      4\u001b[0m \u001b[0;32mfrom\u001b[0m \u001b[0mtime\u001b[0m \u001b[0;32mimport\u001b[0m \u001b[0msleep\u001b[0m\u001b[0;34m\u001b[0m\u001b[0;34m\u001b[0m\u001b[0m\n\u001b[1;32m      5\u001b[0m \u001b[0;32mimport\u001b[0m \u001b[0mjson\u001b[0m\u001b[0;34m\u001b[0m\u001b[0;34m\u001b[0m\u001b[0m\n",
            "\u001b[0;31mModuleNotFoundError\u001b[0m: No module named 'requests_html'",
            "",
            "\u001b[0;31m---------------------------------------------------------------------------\u001b[0;32m\nNOTE: If your import is failing due to a missing package, you can\nmanually install dependencies using either !pip or !apt.\n\nTo view examples of installing some common dependencies, click the\n\"Open Examples\" button below.\n\u001b[0;31m---------------------------------------------------------------------------\u001b[0m\n"
          ],
          "errorDetails": {
            "actions": [
              {
                "action": "open_url",
                "actionText": "Open Examples",
                "url": "/notebooks/snippets/importing_libraries.ipynb"
              }
            ]
          }
        }
      ]
    },
    {
      "cell_type": "code",
      "source": [
        "int(10 ** 0.5)"
      ],
      "metadata": {
        "colab": {
          "base_uri": "https://localhost:8080/"
        },
        "id": "UlHR6bnXuvcj",
        "outputId": "8b9ddaba-6080-41a3-bb83-46e700dcbe38"
      },
      "execution_count": null,
      "outputs": [
        {
          "output_type": "execute_result",
          "data": {
            "text/plain": [
              "3"
            ]
          },
          "metadata": {},
          "execution_count": 29
        }
      ]
    },
    {
      "cell_type": "code",
      "source": [
        "import requests\n",
        "from selenium import webdriver\n",
        "from selenium.webdriver.common.by import By\n",
        "from time import sleep\n",
        "from selenium.webdriver.chrome.options import Options\n",
        "import json\n",
        "import pandas as pd\n",
        "\n",
        "\n"
      ],
      "metadata": {
        "id": "oyfyKUd2u0W2"
      },
      "execution_count": null,
      "outputs": []
    }
  ]
}